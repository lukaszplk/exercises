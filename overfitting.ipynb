{
 "cells": [
  {
   "cell_type": "code",
   "execution_count": 1,
   "metadata": {},
   "outputs": [],
   "source": [
    "import keras"
   ]
  },
  {
   "cell_type": "code",
   "execution_count": 2,
   "metadata": {
    "collapsed": true
   },
   "outputs": [],
   "source": [
    "from keras.datasets import imdb\n",
    "import numpy as np\n",
    "\n",
    "(train_data, train_labels), (test_data, test_labels) = imdb.load_data(num_words=10000)\n",
    "\n",
    "def vectorize_sequences(sequences, dimension=10000):\n",
    "    # Create an all-zero matrix of shape (len(sequences), dimension)\n",
    "    results = np.zeros((len(sequences), dimension))\n",
    "    for i, sequence in enumerate(sequences):\n",
    "        results[i, sequence] = 1.  # set specific indices of results[i] to 1s\n",
    "    return results\n",
    "\n",
    "# Zbiór treningowy w postaci wektora.\n",
    "x_train = vectorize_sequences(train_data)\n",
    "# Zbiór testowy w postaci wektora.\n",
    "x_test = vectorize_sequences(test_data)\n",
    "# Etykiety w postaci wektorów.\n",
    "y_train = np.asarray(train_labels).astype('float32')\n",
    "y_test = np.asarray(test_labels).astype('float32')"
   ]
  },
  {
   "cell_type": "code",
   "execution_count": 3,
   "metadata": {
    "collapsed": true
   },
   "outputs": [],
   "source": [
    "from keras import models\n",
    "from keras import layers\n",
    "\n",
    "original_model = models.Sequential()\n",
    "original_model.add(layers.Dense(16, activation='relu', input_shape=(10000,)))\n",
    "original_model.add(layers.Dense(16, activation='relu'))\n",
    "original_model.add(layers.Dense(1, activation='sigmoid'))\n",
    "\n",
    "original_model.compile(optimizer='rmsprop',\n",
    "                       loss='binary_crossentropy',\n",
    "                       metrics=['acc'])"
   ]
  },
  {
   "cell_type": "markdown",
   "metadata": {},
   "source": [
    "Spróbujmy zastąpić ten model prostszą siecią neuronową:"
   ]
  },
  {
   "cell_type": "code",
   "execution_count": 4,
   "metadata": {
    "collapsed": true
   },
   "outputs": [],
   "source": [
    "smaller_model = models.Sequential()\n",
    "smaller_model.add(layers.Dense(4, activation='relu', input_shape=(10000,)))\n",
    "smaller_model.add(layers.Dense(4, activation='relu'))\n",
    "smaller_model.add(layers.Dense(1, activation='sigmoid'))\n",
    "\n",
    "smaller_model.compile(optimizer='rmsprop',\n",
    "                      loss='binary_crossentropy',\n",
    "                      metrics=['acc'])"
   ]
  },
  {
   "cell_type": "markdown",
   "metadata": {},
   "source": [
    "\n",
    "Oto porównanie straty walidacji oryginalnej sieci i mniejszej sieci. Kropkami oznaczono wartości straty walidacji mniejszej sieci, a krzyżykami oznaczono wartości straty oryginalnej sieci (przypominam, że mniejsza wartość straty walidacji świadczy o tym, że model jest lepszy)."
   ]
  },
  {
   "cell_type": "code",
   "execution_count": 5,
   "metadata": {
    "scrolled": true
   },
   "outputs": [
    {
     "name": "stdout",
     "output_type": "stream",
     "text": [
      "Epoch 1/20\n",
      "49/49 [==============================] - 6s 104ms/step - loss: 0.4714 - acc: 0.8108 - val_loss: 0.3505 - val_acc: 0.8772\n",
      "Epoch 2/20\n",
      "49/49 [==============================] - 1s 25ms/step - loss: 0.2706 - acc: 0.9093 - val_loss: 0.2978 - val_acc: 0.8826\n",
      "Epoch 3/20\n",
      "49/49 [==============================] - 1s 25ms/step - loss: 0.2075 - acc: 0.9272 - val_loss: 0.2801 - val_acc: 0.8884\n",
      "Epoch 4/20\n",
      "49/49 [==============================] - 1s 25ms/step - loss: 0.1739 - acc: 0.9389 - val_loss: 0.2884 - val_acc: 0.8841\n",
      "Epoch 5/20\n",
      "49/49 [==============================] - 1s 24ms/step - loss: 0.1489 - acc: 0.9485 - val_loss: 0.3021 - val_acc: 0.8822\n",
      "Epoch 6/20\n",
      "49/49 [==============================] - 1s 25ms/step - loss: 0.1312 - acc: 0.9546 - val_loss: 0.3235 - val_acc: 0.8781\n",
      "Epoch 7/20\n",
      "49/49 [==============================] - 1s 26ms/step - loss: 0.1157 - acc: 0.9612 - val_loss: 0.3474 - val_acc: 0.8731\n",
      "Epoch 8/20\n",
      "49/49 [==============================] - 1s 23ms/step - loss: 0.1018 - acc: 0.9673 - val_loss: 0.3670 - val_acc: 0.8701\n",
      "Epoch 9/20\n",
      "49/49 [==============================] - 1s 23ms/step - loss: 0.0894 - acc: 0.9708 - val_loss: 0.4282 - val_acc: 0.8582\n",
      "Epoch 10/20\n",
      "49/49 [==============================] - 1s 24ms/step - loss: 0.0797 - acc: 0.9751 - val_loss: 0.4241 - val_acc: 0.8648\n",
      "Epoch 11/20\n",
      "49/49 [==============================] - 1s 24ms/step - loss: 0.0683 - acc: 0.9792 - val_loss: 0.4833 - val_acc: 0.8537\n",
      "Epoch 12/20\n",
      "49/49 [==============================] - 1s 26ms/step - loss: 0.0608 - acc: 0.9815 - val_loss: 0.4697 - val_acc: 0.8612\n",
      "Epoch 13/20\n",
      "49/49 [==============================] - 1s 28ms/step - loss: 0.0526 - acc: 0.9850 - val_loss: 0.4993 - val_acc: 0.8594\n",
      "Epoch 14/20\n",
      "49/49 [==============================] - 1s 29ms/step - loss: 0.0447 - acc: 0.9881 - val_loss: 0.5316 - val_acc: 0.8584\n",
      "Epoch 15/20\n",
      "49/49 [==============================] - 1s 27ms/step - loss: 0.0394 - acc: 0.9887 - val_loss: 0.5742 - val_acc: 0.8528\n",
      "Epoch 16/20\n",
      "49/49 [==============================] - 1s 31ms/step - loss: 0.0316 - acc: 0.9924 - val_loss: 0.5917 - val_acc: 0.8546\n",
      "Epoch 17/20\n",
      "49/49 [==============================] - 1s 28ms/step - loss: 0.0292 - acc: 0.9926 - val_loss: 0.6334 - val_acc: 0.8534\n",
      "Epoch 18/20\n",
      "49/49 [==============================] - 1s 26ms/step - loss: 0.0204 - acc: 0.9958 - val_loss: 0.7111 - val_acc: 0.8474\n",
      "Epoch 19/20\n",
      "49/49 [==============================] - 1s 27ms/step - loss: 0.0186 - acc: 0.9963 - val_loss: 0.6992 - val_acc: 0.8517\n",
      "Epoch 20/20\n",
      "49/49 [==============================] - 1s 26ms/step - loss: 0.0147 - acc: 0.9967 - val_loss: 0.7401 - val_acc: 0.8469\n"
     ]
    }
   ],
   "source": [
    "original_hist = original_model.fit(x_train, y_train,\n",
    "                                   epochs=20,\n",
    "                                   batch_size=512,\n",
    "                                   validation_data=(x_test, y_test))"
   ]
  },
  {
   "cell_type": "code",
   "execution_count": 6,
   "metadata": {},
   "outputs": [
    {
     "name": "stdout",
     "output_type": "stream",
     "text": [
      "Epoch 1/20\n",
      "49/49 [==============================] - 4s 69ms/step - loss: 0.5884 - acc: 0.7075 - val_loss: 0.5317 - val_acc: 0.8006\n",
      "Epoch 2/20\n",
      "49/49 [==============================] - 1s 28ms/step - loss: 0.4852 - acc: 0.8421 - val_loss: 0.4891 - val_acc: 0.8542\n",
      "Epoch 3/20\n",
      "49/49 [==============================] - 1s 27ms/step - loss: 0.4403 - acc: 0.8913 - val_loss: 0.4694 - val_acc: 0.8672\n",
      "Epoch 4/20\n",
      "49/49 [==============================] - 1s 27ms/step - loss: 0.4086 - acc: 0.9158 - val_loss: 0.4562 - val_acc: 0.8781\n",
      "Epoch 5/20\n",
      "49/49 [==============================] - 1s 26ms/step - loss: 0.3832 - acc: 0.9305 - val_loss: 0.4516 - val_acc: 0.8768\n",
      "Epoch 6/20\n",
      "49/49 [==============================] - 1s 28ms/step - loss: 0.3627 - acc: 0.9397 - val_loss: 0.4528 - val_acc: 0.8730\n",
      "Epoch 7/20\n",
      "49/49 [==============================] - 1s 29ms/step - loss: 0.3433 - acc: 0.9476 - val_loss: 0.4503 - val_acc: 0.8744\n",
      "Epoch 8/20\n",
      "49/49 [==============================] - 2s 31ms/step - loss: 0.3260 - acc: 0.9554 - val_loss: 0.4521 - val_acc: 0.8718\n",
      "Epoch 9/20\n",
      "49/49 [==============================] - 1s 30ms/step - loss: 0.3107 - acc: 0.9589 - val_loss: 0.4442 - val_acc: 0.8712\n",
      "Epoch 10/20\n",
      "49/49 [==============================] - 1s 28ms/step - loss: 0.2958 - acc: 0.9637 - val_loss: 0.4625 - val_acc: 0.8682\n",
      "Epoch 11/20\n",
      "49/49 [==============================] - 1s 27ms/step - loss: 0.2832 - acc: 0.9667 - val_loss: 0.4844 - val_acc: 0.8647\n",
      "Epoch 12/20\n",
      "49/49 [==============================] - 1s 25ms/step - loss: 0.2700 - acc: 0.9694 - val_loss: 0.4483 - val_acc: 0.8656\n",
      "Epoch 13/20\n",
      "49/49 [==============================] - 1s 25ms/step - loss: 0.2581 - acc: 0.9722 - val_loss: 0.4634 - val_acc: 0.8635\n",
      "Epoch 14/20\n",
      "49/49 [==============================] - 1s 24ms/step - loss: 0.2467 - acc: 0.9754 - val_loss: 0.5302 - val_acc: 0.8584\n",
      "Epoch 15/20\n",
      "49/49 [==============================] - 1s 28ms/step - loss: 0.2366 - acc: 0.9759 - val_loss: 0.5339 - val_acc: 0.8589\n",
      "Epoch 16/20\n",
      "49/49 [==============================] - 1s 30ms/step - loss: 0.2268 - acc: 0.9770 - val_loss: 0.5351 - val_acc: 0.8586\n",
      "Epoch 17/20\n",
      "49/49 [==============================] - 2s 31ms/step - loss: 0.2181 - acc: 0.9782 - val_loss: 0.5501 - val_acc: 0.8582\n",
      "Epoch 18/20\n",
      "49/49 [==============================] - 2s 31ms/step - loss: 0.2084 - acc: 0.9802 - val_loss: 0.5820 - val_acc: 0.8564\n",
      "Epoch 19/20\n",
      "49/49 [==============================] - 1s 26ms/step - loss: 0.2016 - acc: 0.9802 - val_loss: 0.5917 - val_acc: 0.8564\n",
      "Epoch 20/20\n",
      "49/49 [==============================] - 1s 26ms/step - loss: 0.1930 - acc: 0.9815 - val_loss: 0.5812 - val_acc: 0.8576\n"
     ]
    }
   ],
   "source": [
    "smaller_model_hist = smaller_model.fit(x_train, y_train,\n",
    "                                       epochs=20,\n",
    "                                       batch_size=512,\n",
    "                                       validation_data=(x_test, y_test))"
   ]
  },
  {
   "cell_type": "code",
   "execution_count": 7,
   "metadata": {
    "collapsed": true
   },
   "outputs": [],
   "source": [
    "epochs = range(1, 21)\n",
    "original_val_loss = original_hist.history['val_loss']\n",
    "smaller_model_val_loss = smaller_model_hist.history['val_loss']"
   ]
  },
  {
   "cell_type": "code",
   "execution_count": 8,
   "metadata": {
    "scrolled": true
   },
   "outputs": [
    {
     "data": {
      "image/png": "[encoded data removed]",
      "text/plain": [
       "<Figure size 432x288 with 1 Axes>"
      ]
     },
     "metadata": {
      "needs_background": "light"
     },
     "output_type": "display_data"
    }
   ],
   "source": [
    "import matplotlib.pyplot as plt\n",
    "\n",
    "# b+ to niebieskie krzyżyki\n",
    "plt.plot(epochs, original_val_loss, 'b+', label='Oryginalny model')\n",
    "# bo to niebieskie kropki\n",
    "plt.plot(epochs, smaller_model_val_loss, 'bo', label='Mniejszy model')\n",
    "plt.xlabel('Epoki')\n",
    "plt.ylabel('Strata walidacji')\n",
    "plt.legend()\n",
    "\n",
    "plt.show()"
   ]
  },
  {
   "cell_type": "code",
   "execution_count": 9,
   "metadata": {
    "collapsed": true
   },
   "outputs": [],
   "source": [
    "bigger_model = models.Sequential()\n",
    "bigger_model.add(layers.Dense(512, activation='relu', input_shape=(10000,)))\n",
    "bigger_model.add(layers.Dense(512, activation='relu'))\n",
    "bigger_model.add(layers.Dense(1, activation='sigmoid'))\n",
    "\n",
    "bigger_model.compile(optimizer='rmsprop',\n",
    "                     loss='binary_crossentropy',\n",
    "                     metrics=['acc'])"
   ]
  },
  {
   "cell_type": "code",
   "execution_count": 10,
   "metadata": {},
   "outputs": [
    {
     "name": "stdout",
     "output_type": "stream",
     "text": [
      "Epoch 1/20\n",
      "49/49 [==============================] - 12s 233ms/step - loss: 0.4569 - acc: 0.8004 - val_loss: 0.2916 - val_acc: 0.8826\n",
      "Epoch 2/20\n",
      "49/49 [==============================] - 11s 225ms/step - loss: 0.2119 - acc: 0.9141 - val_loss: 0.3224 - val_acc: 0.8680\n",
      "Epoch 3/20\n",
      "49/49 [==============================] - 13s 263ms/step - loss: 0.1228 - acc: 0.9538 - val_loss: 0.3548 - val_acc: 0.8747\n",
      "Epoch 4/20\n",
      "49/49 [==============================] - 12s 247ms/step - loss: 0.0681 - acc: 0.9814 - val_loss: 0.4423 - val_acc: 0.8793\n",
      "Epoch 5/20\n",
      "49/49 [==============================] - 11s 229ms/step - loss: 0.0665 - acc: 0.9882 - val_loss: 0.4336 - val_acc: 0.8808\n",
      "Epoch 6/20\n",
      "49/49 [==============================] - 11s 225ms/step - loss: 0.0024 - acc: 0.9998 - val_loss: 0.7033 - val_acc: 0.8810\n",
      "Epoch 7/20\n",
      "49/49 [==============================] - 11s 224ms/step - loss: 0.1249 - acc: 0.9864 - val_loss: 0.5893 - val_acc: 0.8792\n",
      "Epoch 8/20\n",
      "49/49 [==============================] - 12s 241ms/step - loss: 7.6413e-04 - acc: 1.0000 - val_loss: 0.7537 - val_acc: 0.8802\n",
      "Epoch 9/20\n",
      "49/49 [==============================] - 11s 224ms/step - loss: 1.2120e-04 - acc: 1.0000 - val_loss: 1.0742 - val_acc: 0.8612\n",
      "Epoch 10/20\n",
      "49/49 [==============================] - 10s 209ms/step - loss: 0.1269 - acc: 0.9867 - val_loss: 0.7408 - val_acc: 0.8780\n",
      "Epoch 11/20\n",
      "49/49 [==============================] - 10s 211ms/step - loss: 8.9184e-05 - acc: 1.0000 - val_loss: 0.9073 - val_acc: 0.8788\n",
      "Epoch 12/20\n",
      "49/49 [==============================] - 12s 253ms/step - loss: 1.5975e-05 - acc: 1.0000 - val_loss: 1.0724 - val_acc: 0.8802\n",
      "Epoch 13/20\n",
      "49/49 [==============================] - 14s 289ms/step - loss: 2.1304e-06 - acc: 1.0000 - val_loss: 1.2192 - val_acc: 0.8790\n",
      "Epoch 14/20\n",
      "49/49 [==============================] - 12s 257ms/step - loss: 0.1716 - acc: 0.9888 - val_loss: 1.1749 - val_acc: 0.8474\n",
      "Epoch 15/20\n",
      "49/49 [==============================] - 11s 226ms/step - loss: 4.3696e-04 - acc: 0.9999 - val_loss: 0.9610 - val_acc: 0.8780\n",
      "Epoch 16/20\n",
      "49/49 [==============================] - 10s 215ms/step - loss: 5.1101e-06 - acc: 1.0000 - val_loss: 0.9935 - val_acc: 0.8797\n",
      "Epoch 17/20\n",
      "49/49 [==============================] - 10s 201ms/step - loss: 2.0999e-06 - acc: 1.0000 - val_loss: 1.0770 - val_acc: 0.8783\n",
      "Epoch 18/20\n",
      "49/49 [==============================] - 10s 201ms/step - loss: 5.7243e-07 - acc: 1.0000 - val_loss: 1.2185 - val_acc: 0.8781\n",
      "Epoch 19/20\n",
      "49/49 [==============================] - 10s 203ms/step - loss: 1.4245e-07 - acc: 1.0000 - val_loss: 1.3420 - val_acc: 0.8787\n",
      "Epoch 20/20\n",
      "49/49 [==============================] - 10s 214ms/step - loss: 4.1839e-08 - acc: 1.0000 - val_loss: 1.4507 - val_acc: 0.8787\n"
     ]
    }
   ],
   "source": [
    "bigger_model_hist = bigger_model.fit(x_train, y_train,\n",
    "                                     epochs=20,\n",
    "                                     batch_size=512,\n",
    "                                     validation_data=(x_test, y_test))"
   ]
  },
  {
   "cell_type": "code",
   "execution_count": 11,
   "metadata": {
    "scrolled": true
   },
   "outputs": [
    {
     "data": {
      "image/png": "[encoded data removed]",
      "text/plain": [
       "<Figure size 432x288 with 1 Axes>"
      ]
     },
     "metadata": {
      "needs_background": "light"
     },
     "output_type": "display_data"
    }
   ],
   "source": [
    "bigger_model_val_loss = bigger_model_hist.history['val_loss']\n",
    "\n",
    "plt.plot(epochs, original_val_loss, 'b+', label='Oryginalny model')\n",
    "plt.plot(epochs, bigger_model_val_loss, 'bo', label='Wiekszy model')\n",
    "plt.xlabel('Epoki')\n",
    "plt.ylabel('Strata walidacji')\n",
    "plt.legend()\n",
    "\n",
    "plt.show()"
   ]
  },
  {
   "cell_type": "code",
   "execution_count": 12,
   "metadata": {
    "scrolled": true
   },
   "outputs": [
    {
     "data": {
      "image/png": "[encoded data removed]",
      "text/plain": [
       "<Figure size 432x288 with 1 Axes>"
      ]
     },
     "metadata": {
      "needs_background": "light"
     },
     "output_type": "display_data"
    }
   ],
   "source": [
    "original_train_loss = original_hist.history['loss']\n",
    "bigger_model_train_loss = bigger_model_hist.history['loss']\n",
    "\n",
    "plt.plot(epochs, original_train_loss, 'b+', label='Oryginalny model')\n",
    "plt.plot(epochs, bigger_model_train_loss, 'bo', label='Wiekszy model')\n",
    "plt.xlabel('Epoki')\n",
    "plt.ylabel('Strata treninogwa')\n",
    "plt.legend()\n",
    "\n",
    "plt.show()"
   ]
  },
  {
   "cell_type": "markdown",
   "metadata": {},
   "source": [
    "## Dodawanie regularyzacji wag"
   ]
  },
  {
   "cell_type": "code",
   "execution_count": 13,
   "metadata": {
    "collapsed": true
   },
   "outputs": [],
   "source": [
    "from keras import regularizers\n",
    "\n",
    "l2_model = models.Sequential()\n",
    "l2_model.add(layers.Dense(16, kernel_regularizer=regularizers.l2(0.001),\n",
    "                          activation='relu', input_shape=(10000,)))\n",
    "l2_model.add(layers.Dense(16, kernel_regularizer=regularizers.l2(0.001),\n",
    "                          activation='relu'))\n",
    "l2_model.add(layers.Dense(1, activation='sigmoid'))"
   ]
  },
  {
   "cell_type": "code",
   "execution_count": 14,
   "metadata": {
    "collapsed": true
   },
   "outputs": [],
   "source": [
    "l2_model.compile(optimizer='rmsprop',\n",
    "                 loss='binary_crossentropy',\n",
    "                 metrics=['acc'])"
   ]
  },
  {
   "cell_type": "markdown",
   "metadata": {},
   "source": [
    "Argument l2(0.001) oznacza, że każdy współczynnik macierzy wag warstwy doda wartość równą 0.001 * weight_coefficient_value (0,001 razy wartość współczynnika wagi) do całkowitej straty sieci. Kara ta jest dodawana tylko podczas trenowania, a więc strata sieci w czasie trenowania będzie o wiele wyższa niż w czasie testowania.\n",
    "\n",
    "Oto wykres, na którym pokazano wpływ kary w postaci regularyzacji L2:"
   ]
  },
  {
   "cell_type": "code",
   "execution_count": 15,
   "metadata": {
    "scrolled": true
   },
   "outputs": [
    {
     "name": "stdout",
     "output_type": "stream",
     "text": [
      "Epoch 1/20\n",
      "49/49 [==============================] - 5s 88ms/step - loss: 0.4797 - acc: 0.8253 - val_loss: 0.3689 - val_acc: 0.8832\n",
      "Epoch 2/20\n",
      "49/49 [==============================] - 1s 28ms/step - loss: 0.3054 - acc: 0.9076 - val_loss: 0.3296 - val_acc: 0.8890\n",
      "Epoch 3/20\n",
      "49/49 [==============================] - 1s 25ms/step - loss: 0.2655 - acc: 0.9229 - val_loss: 0.3294 - val_acc: 0.8875\n",
      "Epoch 4/20\n",
      "49/49 [==============================] - 1s 24ms/step - loss: 0.2432 - acc: 0.9296 - val_loss: 0.3364 - val_acc: 0.8850\n",
      "Epoch 5/20\n",
      "49/49 [==============================] - 1s 25ms/step - loss: 0.2329 - acc: 0.9344 - val_loss: 0.3648 - val_acc: 0.8749\n",
      "Epoch 6/20\n",
      "49/49 [==============================] - 1s 24ms/step - loss: 0.2217 - acc: 0.9394 - val_loss: 0.3910 - val_acc: 0.8664\n",
      "Epoch 7/20\n",
      "49/49 [==============================] - 1s 24ms/step - loss: 0.2187 - acc: 0.9402 - val_loss: 0.3775 - val_acc: 0.8740\n",
      "Epoch 8/20\n",
      "49/49 [==============================] - 1s 25ms/step - loss: 0.2132 - acc: 0.9426 - val_loss: 0.4099 - val_acc: 0.8634\n",
      "Epoch 9/20\n",
      "49/49 [==============================] - 1s 25ms/step - loss: 0.2101 - acc: 0.9432 - val_loss: 0.3815 - val_acc: 0.8744\n",
      "Epoch 10/20\n",
      "49/49 [==============================] - 1s 25ms/step - loss: 0.2040 - acc: 0.9459 - val_loss: 0.3957 - val_acc: 0.8701\n",
      "Epoch 11/20\n",
      "49/49 [==============================] - 1s 24ms/step - loss: 0.2059 - acc: 0.9446 - val_loss: 0.3857 - val_acc: 0.8738\n",
      "Epoch 12/20\n",
      "49/49 [==============================] - 1s 25ms/step - loss: 0.1997 - acc: 0.9466 - val_loss: 0.4051 - val_acc: 0.8709\n",
      "Epoch 13/20\n",
      "49/49 [==============================] - 1s 25ms/step - loss: 0.2008 - acc: 0.9457 - val_loss: 0.3999 - val_acc: 0.8724\n",
      "Epoch 14/20\n",
      "49/49 [==============================] - 1s 25ms/step - loss: 0.1959 - acc: 0.9485 - val_loss: 0.4042 - val_acc: 0.8718\n",
      "Epoch 15/20\n",
      "49/49 [==============================] - 1s 24ms/step - loss: 0.1883 - acc: 0.9524 - val_loss: 0.4264 - val_acc: 0.8651\n",
      "Epoch 16/20\n",
      "49/49 [==============================] - 1s 24ms/step - loss: 0.1910 - acc: 0.9502 - val_loss: 0.4120 - val_acc: 0.8708\n",
      "Epoch 17/20\n",
      "49/49 [==============================] - 1s 24ms/step - loss: 0.1914 - acc: 0.9496 - val_loss: 0.4304 - val_acc: 0.8658\n",
      "Epoch 18/20\n",
      "49/49 [==============================] - 1s 25ms/step - loss: 0.1827 - acc: 0.9550 - val_loss: 0.4859 - val_acc: 0.8530\n",
      "Epoch 19/20\n",
      "49/49 [==============================] - 1s 24ms/step - loss: 0.1814 - acc: 0.9551 - val_loss: 0.4372 - val_acc: 0.8653\n",
      "Epoch 20/20\n",
      "49/49 [==============================] - 1s 24ms/step - loss: 0.1815 - acc: 0.9543 - val_loss: 0.4488 - val_acc: 0.8636\n"
     ]
    }
   ],
   "source": [
    "l2_model_hist = l2_model.fit(x_train, y_train,\n",
    "                             epochs=20,\n",
    "                             batch_size=512,\n",
    "                             validation_data=(x_test, y_test))"
   ]
  },
  {
   "cell_type": "code",
   "execution_count": 16,
   "metadata": {},
   "outputs": [
    {
     "data": {
      "image/png": "[encoded data removed]",
      "text/plain": [
       "<Figure size 432x288 with 1 Axes>"
      ]
     },
     "metadata": {
      "needs_background": "light"
     },
     "output_type": "display_data"
    }
   ],
   "source": [
    "l2_model_val_loss = l2_model_hist.history['val_loss']\n",
    "\n",
    "plt.plot(epochs, original_val_loss, 'b+', label='Oryginalny model')\n",
    "plt.plot(epochs, l2_model_val_loss, 'bo', label='Model z regularyzacja L2')\n",
    "plt.xlabel('Epoki')\n",
    "plt.ylabel('Strata walidacji')\n",
    "plt.legend()\n",
    "\n",
    "plt.show()"
   ]
  },
  {
   "cell_type": "code",
   "execution_count": 17,
   "metadata": {
    "collapsed": true
   },
   "outputs": [
    {
     "data": {
      "text/plain": [
       "<keras.regularizers.L1L2 at 0x23aa07117c0>"
      ]
     },
     "execution_count": 17,
     "metadata": {},
     "output_type": "execute_result"
    }
   ],
   "source": [
    "from keras import regularizers\n",
    "\n",
    "# Regularyzacja L1.\n",
    "regularizers.l1(0.001)\n",
    "\n",
    "# Jednoczesna regularyzacja L1 i L2.\n",
    "regularizers.l1_l2(l1=0.001, l2=0.001)"
   ]
  },
  {
   "cell_type": "markdown",
   "metadata": {},
   "source": [
    "## Porzucanie — technika dropout"
   ]
  },
  {
   "cell_type": "markdown",
   "metadata": {},
   "source": [
    "W pakiecie Keras technikę tę można zastosować przy użyciu warstwy Dropout, którą umieszcza się bezpośrednio za wyjściem znajdującej się wcześniej warstwy:\n"
   ]
  },
  {
   "cell_type": "markdown",
   "metadata": {},
   "source": [
    "Dodajmy dwie warstwy Dropout do sieci IMDB i zobaczmy, czy pomogą one w zredukowaniu nadmiernego dopasowania:"
   ]
  },
  {
   "cell_type": "code",
   "execution_count": 20,
   "metadata": {
    "collapsed": true
   },
   "outputs": [],
   "source": [
    "dpt_model = models.Sequential()\n",
    "dpt_model.add(layers.Dense(16, activation='relu', input_shape=(10000,)))\n",
    "dpt_model.add(layers.Dropout(0.5))\n",
    "dpt_model.add(layers.Dense(16, activation='relu'))\n",
    "dpt_model.add(layers.Dropout(0.5))\n",
    "dpt_model.add(layers.Dense(1, activation='sigmoid'))\n",
    "\n",
    "dpt_model.compile(optimizer='rmsprop',\n",
    "                  loss='binary_crossentropy',\n",
    "                  metrics=['acc'])"
   ]
  },
  {
   "cell_type": "code",
   "execution_count": 21,
   "metadata": {},
   "outputs": [
    {
     "name": "stdout",
     "output_type": "stream",
     "text": [
      "Epoch 1/20\n",
      "49/49 [==============================] - 6s 92ms/step - loss: 0.5911 - acc: 0.6935 - val_loss: 0.4415 - val_acc: 0.8667\n",
      "Epoch 2/20\n",
      "49/49 [==============================] - 1s 29ms/step - loss: 0.4266 - acc: 0.8332 - val_loss: 0.3425 - val_acc: 0.8802\n",
      "Epoch 3/20\n",
      "49/49 [==============================] - 1s 29ms/step - loss: 0.3421 - acc: 0.8804 - val_loss: 0.2943 - val_acc: 0.8866\n",
      "Epoch 4/20\n",
      "49/49 [==============================] - 2s 31ms/step - loss: 0.2896 - acc: 0.9024 - val_loss: 0.2908 - val_acc: 0.8789\n",
      "Epoch 5/20\n",
      "49/49 [==============================] - 1s 29ms/step - loss: 0.2517 - acc: 0.9176 - val_loss: 0.2840 - val_acc: 0.8856\n",
      "Epoch 6/20\n",
      "49/49 [==============================] - 1s 29ms/step - loss: 0.2233 - acc: 0.9271 - val_loss: 0.2962 - val_acc: 0.8868\n",
      "Epoch 7/20\n",
      "49/49 [==============================] - 1s 29ms/step - loss: 0.1996 - acc: 0.9361 - val_loss: 0.3086 - val_acc: 0.8854\n",
      "Epoch 8/20\n",
      "49/49 [==============================] - 1s 30ms/step - loss: 0.1869 - acc: 0.9386 - val_loss: 0.3261 - val_acc: 0.8836\n",
      "Epoch 9/20\n",
      "49/49 [==============================] - 1s 29ms/step - loss: 0.1658 - acc: 0.9458 - val_loss: 0.3615 - val_acc: 0.8843\n",
      "Epoch 10/20\n",
      "49/49 [==============================] - 1s 28ms/step - loss: 0.1600 - acc: 0.9478 - val_loss: 0.3689 - val_acc: 0.8786\n",
      "Epoch 11/20\n",
      "49/49 [==============================] - 1s 29ms/step - loss: 0.1469 - acc: 0.9525 - val_loss: 0.4017 - val_acc: 0.8804\n",
      "Epoch 12/20\n",
      "49/49 [==============================] - 1s 30ms/step - loss: 0.1349 - acc: 0.9560 - val_loss: 0.4328 - val_acc: 0.8789\n",
      "Epoch 13/20\n",
      "49/49 [==============================] - 1s 29ms/step - loss: 0.1278 - acc: 0.9591 - val_loss: 0.4443 - val_acc: 0.8744\n",
      "Epoch 14/20\n",
      "49/49 [==============================] - 1s 29ms/step - loss: 0.1233 - acc: 0.9614 - val_loss: 0.4567 - val_acc: 0.8744\n",
      "Epoch 15/20\n",
      "49/49 [==============================] - 1s 30ms/step - loss: 0.1187 - acc: 0.9653 - val_loss: 0.4885 - val_acc: 0.8728\n",
      "Epoch 16/20\n",
      "49/49 [==============================] - 1s 29ms/step - loss: 0.1157 - acc: 0.9624 - val_loss: 0.5146 - val_acc: 0.8727\n",
      "Epoch 17/20\n",
      "49/49 [==============================] - 1s 30ms/step - loss: 0.1085 - acc: 0.9664 - val_loss: 0.5697 - val_acc: 0.8746\n",
      "Epoch 18/20\n",
      "49/49 [==============================] - 1s 30ms/step - loss: 0.1092 - acc: 0.9659 - val_loss: 0.5807 - val_acc: 0.8740\n",
      "Epoch 19/20\n",
      "49/49 [==============================] - 1s 30ms/step - loss: 0.1117 - acc: 0.9670 - val_loss: 0.5875 - val_acc: 0.8711\n",
      "Epoch 20/20\n",
      "49/49 [==============================] - 1s 29ms/step - loss: 0.1041 - acc: 0.9679 - val_loss: 0.5831 - val_acc: 0.8681\n"
     ]
    }
   ],
   "source": [
    "dpt_model_hist = dpt_model.fit(x_train, y_train,\n",
    "                               epochs=20,\n",
    "                               batch_size=512,\n",
    "                               validation_data=(x_test, y_test))"
   ]
  },
  {
   "cell_type": "code",
   "execution_count": 22,
   "metadata": {
    "scrolled": true
   },
   "outputs": [
    {
     "data": {
      "image/png": "[encoded data removed]",
      "text/plain": [
       "<Figure size 432x288 with 1 Axes>"
      ]
     },
     "metadata": {
      "needs_background": "light"
     },
     "output_type": "display_data"
    }
   ],
   "source": [
    "dpt_model_val_loss = dpt_model_hist.history['val_loss']\n",
    "\n",
    "plt.plot(epochs, original_val_loss, 'b+', label='Oryginalny model')\n",
    "plt.plot(epochs, dpt_model_val_loss, 'bo', label='Model z regularyzacja dropout')\n",
    "plt.xlabel('Epoki')\n",
    "plt.ylabel('Strata walidacji')\n",
    "plt.legend()\n",
    "\n",
    "plt.show()"
   ]
  },
  {
   "cell_type": "markdown",
   "metadata": {},
   "source": [
    "\n",
    "Ponownie widać poprawę względem sieci referencyjnej.\n",
    "\n",
    "Reasumując, oto najczęściej stosowane techniki mające zapobiec nadmiernemu dopasowaniu sieci neuronowych:\n",
    "\n",
    "* Zdobycie większej ilości danych treningowych.\n",
    "* Redukcja pojemności sieci.\n",
    "* Dodanie regularyzacji wag.\n",
    "* Dodanie mechanizmu porzucania."
   ]
  }
 ],
 "metadata": {
  "interpreter": {
   "hash": "d03e2d80dde925cfb4652b699edd3196d72f7560319f9b7aa6498da6fcd9f501"
  },
  "kernelspec": {
   "display_name": "Python 3.9.7 64-bit",
   "name": "python3"
  },
  "language_info": {
   "codemirror_mode": {
    "name": "ipython",
    "version": 3
   },
   "file_extension": ".py",
   "mimetype": "text/x-python",
   "name": "python",
   "nbconvert_exporter": "python",
   "pygments_lexer": "ipython3",
   "version": "3.9.7"
  }
 },
 "nbformat": 4,
 "nbformat_minor": 2
}
