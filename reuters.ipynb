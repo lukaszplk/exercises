{
 "cells": [
  {
   "cell_type": "code",
   "execution_count": 1,
   "metadata": {},
   "outputs": [],
   "source": [
    "import keras"
   ]
  },
  {
   "cell_type": "code",
   "execution_count": 2,
   "metadata": {
    "collapsed": true
   },
   "outputs": [
    {
     "name": "stdout",
     "output_type": "stream",
     "text": [
      "Downloading data from https://storage.googleapis.com/tensorflow/tf-keras-datasets/reuters.npz\n",
      "2113536/2110848 [==============================] - 1s 1us/step\n",
      "2121728/2110848 [==============================] - 1s 1us/step\n"
     ]
    }
   ],
   "source": [
    "from keras.datasets import reuters\n",
    "\n",
    "(train_data, train_labels), (test_data, test_labels) = reuters.load_data(num_words=10000)"
   ]
  },
  {
   "cell_type": "code",
   "execution_count": 3,
   "metadata": {},
   "outputs": [
    {
     "data": {
      "text/plain": [
       "8982"
      ]
     },
     "execution_count": 3,
     "metadata": {},
     "output_type": "execute_result"
    }
   ],
   "source": [
    "len(train_data)"
   ]
  },
  {
   "cell_type": "code",
   "execution_count": 4,
   "metadata": {},
   "outputs": [
    {
     "data": {
      "text/plain": [
       "2246"
      ]
     },
     "execution_count": 4,
     "metadata": {},
     "output_type": "execute_result"
    }
   ],
   "source": [
    "len(test_data)"
   ]
  },
  {
   "cell_type": "markdown",
   "metadata": {},
   "source": [
    "Każdy przykład jest listą wartości całkowitoliczbowych (indeksów słów) — takie samo rozwiązanie zostało zaprezentowane w przykładzie zbioru IMDB:"
   ]
  },
  {
   "cell_type": "code",
   "execution_count": 5,
   "metadata": {
    "scrolled": true
   },
   "outputs": [
    {
     "data": {
      "text/plain": [
       "[1,\n",
       " 245,\n",
       " 273,\n",
       " 207,\n",
       " 156,\n",
       " 53,\n",
       " 74,\n",
       " 160,\n",
       " 26,\n",
       " 14,\n",
       " 46,\n",
       " 296,\n",
       " 26,\n",
       " 39,\n",
       " 74,\n",
       " 2979,\n",
       " 3554,\n",
       " 14,\n",
       " 46,\n",
       " 4689,\n",
       " 4329,\n",
       " 86,\n",
       " 61,\n",
       " 3499,\n",
       " 4795,\n",
       " 14,\n",
       " 61,\n",
       " 451,\n",
       " 4329,\n",
       " 17,\n",
       " 12]"
      ]
     },
     "execution_count": 5,
     "metadata": {},
     "output_type": "execute_result"
    }
   ],
   "source": [
    "train_data[10]"
   ]
  },
  {
   "cell_type": "code",
   "execution_count": 6,
   "metadata": {},
   "outputs": [
    {
     "name": "stdout",
     "output_type": "stream",
     "text": [
      "Downloading data from https://storage.googleapis.com/tensorflow/tf-keras-datasets/reuters_word_index.json\n",
      "557056/550378 [==============================] - 0s 1us/step\n",
      "565248/550378 [==============================] - 0s 1us/step\n"
     ]
    }
   ],
   "source": [
    "word_index = reuters.get_word_index()\n",
    "reverse_word_index = dict([(value, key) for (key, value) in word_index.items()])\n",
    "# Kod dekodujący recenzję. Zauważ, że indeksy są przesunięte o 3, ponieważ pod indeksami o numerach 0, 1 i 2 \n",
    "# znajdują się indeksy symbolizujące „wypełnienie”, „początek sekwencji” i „nieznane słowo”.\n",
    "decoded_newswire = ' '.join([reverse_word_index.get(i - 3, '?') for i in train_data[0]])"
   ]
  },
  {
   "cell_type": "code",
   "execution_count": 7,
   "metadata": {},
   "outputs": [
    {
     "data": {
      "text/plain": [
       "'? ? ? said as a result of its december acquisition of space co it expects earnings per share in 1987 of 1 15 to 1 30 dlrs per share up from 70 cts in 1986 the company said pretax net should rise to nine to 10 mln dlrs from six mln dlrs in 1986 and rental operation revenues to 19 to 22 mln dlrs from 12 5 mln dlrs it said cash flow per share this year should be 2 50 to three dlrs reuter 3'"
      ]
     },
     "execution_count": 7,
     "metadata": {},
     "output_type": "execute_result"
    }
   ],
   "source": [
    "decoded_newswire"
   ]
  },
  {
   "cell_type": "markdown",
   "metadata": {},
   "source": [
    "Tabela etykiet przykładów zawiera wartości całkowitoliczbowe znajdujące się w zakresie od 0 do 45 (są to indeksy tematów):"
   ]
  },
  {
   "cell_type": "code",
   "execution_count": 8,
   "metadata": {},
   "outputs": [
    {
     "data": {
      "text/plain": [
       "3"
      ]
     },
     "execution_count": 8,
     "metadata": {},
     "output_type": "execute_result"
    }
   ],
   "source": [
    "train_labels[10]"
   ]
  },
  {
   "cell_type": "code",
   "execution_count": 9,
   "metadata": {
    "collapsed": true
   },
   "outputs": [],
   "source": [
    "import numpy as np\n",
    "\n",
    "def vectorize_sequences(sequences, dimension=10000):\n",
    "    results = np.zeros((len(sequences), dimension))\n",
    "    for i, sequence in enumerate(sequences):\n",
    "        results[i, sequence] = 1.\n",
    "    return results\n",
    "\n",
    "# Zbiór treningowy w postaci wektora.\n",
    "x_train = vectorize_sequences(train_data)\n",
    "# Zbiór testowy w postaci wektora.\n",
    "x_test = vectorize_sequences(test_data)"
   ]
  },
  {
   "cell_type": "code",
   "execution_count": 10,
   "metadata": {
    "collapsed": true
   },
   "outputs": [],
   "source": [
    "def to_one_hot(labels, dimension=46):\n",
    "    results = np.zeros((len(labels), dimension))\n",
    "    for i, label in enumerate(labels):\n",
    "        results[i, label] = 1.\n",
    "    return results\n",
    "\n",
    "# Etykiety zbioru treningowego w postaci wektora.\n",
    "one_hot_train_labels = to_one_hot(train_labels)\n",
    "# Etykiety zbioru testowego w postaci wektora.\n",
    "one_hot_test_labels = to_one_hot(test_labels)"
   ]
  },
  {
   "cell_type": "code",
   "execution_count": 11,
   "metadata": {
    "collapsed": true
   },
   "outputs": [],
   "source": [
    "from keras.utils.np_utils import to_categorical\n",
    "\n",
    "one_hot_train_labels = to_categorical(train_labels)\n",
    "one_hot_test_labels = to_categorical(test_labels)"
   ]
  },
  {
   "cell_type": "code",
   "execution_count": 12,
   "metadata": {
    "collapsed": true
   },
   "outputs": [],
   "source": [
    "from keras import models\n",
    "from keras import layers\n",
    "\n",
    "model = models.Sequential()\n",
    "model.add(layers.Dense(64, activation='relu', input_shape=(10000,)))\n",
    "model.add(layers.Dense(64, activation='relu'))\n",
    "model.add(layers.Dense(46, activation='softmax'))"
   ]
  },
  {
   "cell_type": "code",
   "execution_count": 13,
   "metadata": {
    "collapsed": true
   },
   "outputs": [],
   "source": [
    "model.compile(optimizer='rmsprop',\n",
    "              loss='categorical_crossentropy',\n",
    "              metrics=['accuracy'])"
   ]
  },
  {
   "cell_type": "code",
   "execution_count": 14,
   "metadata": {
    "collapsed": true
   },
   "outputs": [],
   "source": [
    "x_val = x_train[:1000]\n",
    "partial_x_train = x_train[1000:]\n",
    "\n",
    "y_val = one_hot_train_labels[:1000]\n",
    "partial_y_train = one_hot_train_labels[1000:]"
   ]
  },
  {
   "cell_type": "code",
   "execution_count": 15,
   "metadata": {
    "scrolled": true
   },
   "outputs": [
    {
     "name": "stdout",
     "output_type": "stream",
     "text": [
      "Epoch 1/20\n",
      "16/16 [==============================] - 2s 78ms/step - loss: 2.6866 - accuracy: 0.5115 - val_loss: 1.8196 - val_accuracy: 0.6030\n",
      "Epoch 2/20\n",
      "16/16 [==============================] - 1s 46ms/step - loss: 1.4551 - accuracy: 0.6946 - val_loss: 1.3296 - val_accuracy: 0.7110\n",
      "Epoch 3/20\n",
      "16/16 [==============================] - 1s 52ms/step - loss: 1.0578 - accuracy: 0.7760 - val_loss: 1.1441 - val_accuracy: 0.7570\n",
      "Epoch 4/20\n",
      "16/16 [==============================] - 1s 42ms/step - loss: 0.8329 - accuracy: 0.8230 - val_loss: 1.0576 - val_accuracy: 0.7570\n",
      "Epoch 5/20\n",
      "16/16 [==============================] - 1s 43ms/step - loss: 0.6661 - accuracy: 0.8591 - val_loss: 0.9756 - val_accuracy: 0.7920\n",
      "Epoch 6/20\n",
      "16/16 [==============================] - 1s 42ms/step - loss: 0.5416 - accuracy: 0.8864 - val_loss: 0.9272 - val_accuracy: 0.8050\n",
      "Epoch 7/20\n",
      "16/16 [==============================] - 1s 41ms/step - loss: 0.4350 - accuracy: 0.9108 - val_loss: 0.9405 - val_accuracy: 0.7910\n",
      "Epoch 8/20\n",
      "16/16 [==============================] - 1s 41ms/step - loss: 0.3581 - accuracy: 0.9248 - val_loss: 0.8977 - val_accuracy: 0.8120\n",
      "Epoch 9/20\n",
      "16/16 [==============================] - 1s 41ms/step - loss: 0.2942 - accuracy: 0.9356 - val_loss: 0.9135 - val_accuracy: 0.8070\n",
      "Epoch 10/20\n",
      "16/16 [==============================] - 1s 41ms/step - loss: 0.2515 - accuracy: 0.9450 - val_loss: 0.8990 - val_accuracy: 0.8130\n",
      "Epoch 11/20\n",
      "16/16 [==============================] - 1s 43ms/step - loss: 0.2124 - accuracy: 0.9466 - val_loss: 0.9036 - val_accuracy: 0.8120\n",
      "Epoch 12/20\n",
      "16/16 [==============================] - 1s 39ms/step - loss: 0.1908 - accuracy: 0.9508 - val_loss: 0.9325 - val_accuracy: 0.8020\n",
      "Epoch 13/20\n",
      "16/16 [==============================] - 1s 42ms/step - loss: 0.1693 - accuracy: 0.9535 - val_loss: 0.9358 - val_accuracy: 0.8060\n",
      "Epoch 14/20\n",
      "16/16 [==============================] - 1s 42ms/step - loss: 0.1556 - accuracy: 0.9541 - val_loss: 0.9926 - val_accuracy: 0.8000\n",
      "Epoch 15/20\n",
      "16/16 [==============================] - 1s 42ms/step - loss: 0.1424 - accuracy: 0.9543 - val_loss: 0.9609 - val_accuracy: 0.8060\n",
      "Epoch 16/20\n",
      "16/16 [==============================] - 1s 43ms/step - loss: 0.1327 - accuracy: 0.9563 - val_loss: 1.0125 - val_accuracy: 0.8010\n",
      "Epoch 17/20\n",
      "16/16 [==============================] - 1s 45ms/step - loss: 0.1301 - accuracy: 0.9546 - val_loss: 1.0920 - val_accuracy: 0.7920\n",
      "Epoch 18/20\n",
      "16/16 [==============================] - 1s 42ms/step - loss: 0.1179 - accuracy: 0.9588 - val_loss: 1.0587 - val_accuracy: 0.7980\n",
      "Epoch 19/20\n",
      "16/16 [==============================] - 1s 44ms/step - loss: 0.1186 - accuracy: 0.9574 - val_loss: 1.0647 - val_accuracy: 0.8000\n",
      "Epoch 20/20\n",
      "16/16 [==============================] - 1s 50ms/step - loss: 0.1143 - accuracy: 0.9574 - val_loss: 1.0582 - val_accuracy: 0.8010\n"
     ]
    }
   ],
   "source": [
    "history = model.fit(partial_x_train,\n",
    "                    partial_y_train,\n",
    "                    epochs=20,\n",
    "                    batch_size=512,\n",
    "                    validation_data=(x_val, y_val))"
   ]
  },
  {
   "cell_type": "code",
   "execution_count": 16,
   "metadata": {
    "scrolled": true
   },
   "outputs": [
    {
     "data": {
      "image/png": "[encoded data removed]",
      "text/plain": [
       "<Figure size 432x288 with 1 Axes>"
      ]
     },
     "metadata": {
      "needs_background": "light"
     },
     "output_type": "display_data"
    }
   ],
   "source": [
    "import matplotlib.pyplot as plt\n",
    "\n",
    "loss = history.history['loss']\n",
    "val_loss = history.history['val_loss']\n",
    "\n",
    "epochs = range(1, len(loss) + 1)\n",
    "\n",
    "plt.plot(epochs, loss, 'bo', label='Strata trenowania')\n",
    "plt.plot(epochs, val_loss, 'b', label='Strata walidacji')\n",
    "plt.title('Strata trenowania i walidacji')\n",
    "plt.xlabel('Epoki')\n",
    "plt.ylabel('Strata')\n",
    "plt.legend()\n",
    "\n",
    "plt.show()"
   ]
  },
  {
   "cell_type": "code",
   "execution_count": 20,
   "metadata": {
    "scrolled": true
   },
   "outputs": [
    {
     "data": {
      "image/png": "[encoded data removed]",
      "text/plain": [
       "<Figure size 432x288 with 1 Axes>"
      ]
     },
     "metadata": {
      "needs_background": "light"
     },
     "output_type": "display_data"
    }
   ],
   "source": [
    "plt.clf()   # Czyszczenie rysunku.\n",
    "\n",
    "acc = history.history['accuracy']\n",
    "val_acc = history.history['val_accuracy']\n",
    "\n",
    "plt.plot(epochs, acc, 'bo', label='Dokladnosc trenowania')\n",
    "plt.plot(epochs, val_acc, 'b', label='Dokladnosc walidacji')\n",
    "plt.title('Dokladnosc trenowania i walidacji')\n",
    "plt.xlabel('Epoki')\n",
    "plt.ylabel('Strata')\n",
    "plt.legend()\n",
    "\n",
    "plt.show()"
   ]
  },
  {
   "cell_type": "code",
   "execution_count": 21,
   "metadata": {},
   "outputs": [
    {
     "name": "stdout",
     "output_type": "stream",
     "text": [
      "Epoch 1/8\n",
      "16/16 [==============================] - 2s 68ms/step - loss: 2.6649 - accuracy: 0.5296 - val_loss: 1.7590 - val_accuracy: 0.6370\n",
      "Epoch 2/8\n",
      "16/16 [==============================] - 1s 41ms/step - loss: 1.4532 - accuracy: 0.7058 - val_loss: 1.3091 - val_accuracy: 0.7060\n",
      "Epoch 3/8\n",
      "16/16 [==============================] - 1s 51ms/step - loss: 1.0836 - accuracy: 0.7712 - val_loss: 1.1666 - val_accuracy: 0.7340\n",
      "Epoch 4/8\n",
      "16/16 [==============================] - 1s 50ms/step - loss: 0.8556 - accuracy: 0.8118 - val_loss: 1.0313 - val_accuracy: 0.7780\n",
      "Epoch 5/8\n",
      "16/16 [==============================] - 1s 42ms/step - loss: 0.6794 - accuracy: 0.8547 - val_loss: 0.9497 - val_accuracy: 0.8050\n",
      "Epoch 6/8\n",
      "16/16 [==============================] - 1s 44ms/step - loss: 0.5399 - accuracy: 0.8864 - val_loss: 0.9170 - val_accuracy: 0.8060\n",
      "Epoch 7/8\n",
      "16/16 [==============================] - 1s 48ms/step - loss: 0.4313 - accuracy: 0.9112 - val_loss: 0.8887 - val_accuracy: 0.8090\n",
      "Epoch 8/8\n",
      "16/16 [==============================] - 1s 43ms/step - loss: 0.3523 - accuracy: 0.9258 - val_loss: 0.8999 - val_accuracy: 0.8040\n",
      "71/71 [==============================] - 0s 3ms/step - loss: 0.9851 - accuracy: 0.7832\n"
     ]
    }
   ],
   "source": [
    "model = models.Sequential()\n",
    "model.add(layers.Dense(64, activation='relu', input_shape=(10000,)))\n",
    "model.add(layers.Dense(64, activation='relu'))\n",
    "model.add(layers.Dense(46, activation='softmax'))\n",
    "\n",
    "model.compile(optimizer='rmsprop',\n",
    "              loss='categorical_crossentropy',\n",
    "              metrics=['accuracy'])\n",
    "model.fit(partial_x_train,\n",
    "          partial_y_train,\n",
    "          epochs=8,\n",
    "          batch_size=512,\n",
    "          validation_data=(x_val, y_val))\n",
    "results = model.evaluate(x_test, one_hot_test_labels)"
   ]
  },
  {
   "cell_type": "code",
   "execution_count": 22,
   "metadata": {},
   "outputs": [
    {
     "data": {
      "text/plain": [
       "[0.9851242899894714, 0.7831701040267944]"
      ]
     },
     "execution_count": 22,
     "metadata": {},
     "output_type": "execute_result"
    }
   ],
   "source": [
    "results"
   ]
  },
  {
   "cell_type": "code",
   "execution_count": 23,
   "metadata": {},
   "outputs": [
    {
     "data": {
      "text/plain": [
       "0.19278717720391808"
      ]
     },
     "execution_count": 23,
     "metadata": {},
     "output_type": "execute_result"
    }
   ],
   "source": [
    "import copy\n",
    "\n",
    "test_labels_copy = copy.copy(test_labels)\n",
    "np.random.shuffle(test_labels_copy)\n",
    "float(np.sum(np.array(test_labels) == np.array(test_labels_copy))) / len(test_labels)"
   ]
  },
  {
   "cell_type": "markdown",
   "metadata": {},
   "source": [
    "## Generowanie przewidywań dotyczących nowych danych\n",
    "\n",
    "Możemy zweryfikować zwracanie przez metodę predict naszej instancji modelu rozkładu prawdopodobieństwa wszystkich 46 tematów. Wygenerujmy przewidywania dla wszystkich elementów testowego zbioru danych."
   ]
  },
  {
   "cell_type": "code",
   "execution_count": 24,
   "metadata": {
    "collapsed": true
   },
   "outputs": [],
   "source": [
    "predictions = model.predict(x_test)"
   ]
  },
  {
   "cell_type": "code",
   "execution_count": 25,
   "metadata": {},
   "outputs": [
    {
     "data": {
      "text/plain": [
       "(46,)"
      ]
     },
     "execution_count": 25,
     "metadata": {},
     "output_type": "execute_result"
    }
   ],
   "source": [
    "predictions[0].shape"
   ]
  },
  {
   "cell_type": "code",
   "execution_count": 26,
   "metadata": {},
   "outputs": [
    {
     "data": {
      "text/plain": [
       "1.0000001"
      ]
     },
     "execution_count": 26,
     "metadata": {},
     "output_type": "execute_result"
    }
   ],
   "source": [
    "np.sum(predictions[0])"
   ]
  },
  {
   "cell_type": "markdown",
   "metadata": {},
   "source": [
    "Najwyższa wartość wektora wskazuje przewidywaną klasę — klasę, do której najprawdopodobniej należy dana próbka:"
   ]
  },
  {
   "cell_type": "code",
   "execution_count": 27,
   "metadata": {},
   "outputs": [
    {
     "data": {
      "text/plain": [
       "3"
      ]
     },
     "execution_count": 27,
     "metadata": {},
     "output_type": "execute_result"
    }
   ],
   "source": [
    "np.argmax(predictions[0])"
   ]
  },
  {
   "cell_type": "markdown",
   "metadata": {},
   "source": [
    "## Inne sposoby obsługi etykiet i funkcji straty"
   ]
  },
  {
   "cell_type": "code",
   "execution_count": 28,
   "metadata": {
    "collapsed": true
   },
   "outputs": [],
   "source": [
    "y_train = np.array(train_labels)\n",
    "y_test = np.array(test_labels)"
   ]
  },
  {
   "cell_type": "code",
   "execution_count": 29,
   "metadata": {
    "collapsed": true
   },
   "outputs": [],
   "source": [
    "model.compile(optimizer='rmsprop', loss='sparse_categorical_crossentropy', metrics=['acc'])"
   ]
  },
  {
   "cell_type": "code",
   "execution_count": 30,
   "metadata": {},
   "outputs": [
    {
     "name": "stdout",
     "output_type": "stream",
     "text": [
      "Epoch 1/20\n",
      "63/63 [==============================] - 2s 20ms/step - loss: 3.0051 - accuracy: 0.2527 - val_loss: 2.3350 - val_accuracy: 0.5490\n",
      "Epoch 2/20\n",
      "63/63 [==============================] - 1s 19ms/step - loss: 1.8214 - accuracy: 0.5809 - val_loss: 1.5955 - val_accuracy: 0.6060\n",
      "Epoch 3/20\n",
      "63/63 [==============================] - 1s 21ms/step - loss: 1.3637 - accuracy: 0.6429 - val_loss: 1.4499 - val_accuracy: 0.6580\n",
      "Epoch 4/20\n",
      "63/63 [==============================] - 1s 20ms/step - loss: 1.1753 - accuracy: 0.7137 - val_loss: 1.3796 - val_accuracy: 0.6790\n",
      "Epoch 5/20\n",
      "63/63 [==============================] - 1s 23ms/step - loss: 1.0454 - accuracy: 0.7527 - val_loss: 1.3452 - val_accuracy: 0.6990\n",
      "Epoch 6/20\n",
      "63/63 [==============================] - 1s 19ms/step - loss: 0.9429 - accuracy: 0.7734 - val_loss: 1.3313 - val_accuracy: 0.7000\n",
      "Epoch 7/20\n",
      "63/63 [==============================] - 1s 18ms/step - loss: 0.8587 - accuracy: 0.7871 - val_loss: 1.3546 - val_accuracy: 0.7010\n",
      "Epoch 8/20\n",
      "63/63 [==============================] - 1s 19ms/step - loss: 0.7909 - accuracy: 0.7985 - val_loss: 1.3542 - val_accuracy: 0.7010\n",
      "Epoch 9/20\n",
      "63/63 [==============================] - 1s 18ms/step - loss: 0.7306 - accuracy: 0.8078 - val_loss: 1.3873 - val_accuracy: 0.7050\n",
      "Epoch 10/20\n",
      "63/63 [==============================] - 1s 20ms/step - loss: 0.6807 - accuracy: 0.8183 - val_loss: 1.4351 - val_accuracy: 0.7140\n",
      "Epoch 11/20\n",
      "63/63 [==============================] - 1s 21ms/step - loss: 0.6355 - accuracy: 0.8282 - val_loss: 1.4640 - val_accuracy: 0.6980\n",
      "Epoch 12/20\n",
      "63/63 [==============================] - 1s 18ms/step - loss: 0.5962 - accuracy: 0.8391 - val_loss: 1.4655 - val_accuracy: 0.7070\n",
      "Epoch 13/20\n",
      "63/63 [==============================] - 1s 18ms/step - loss: 0.5577 - accuracy: 0.8477 - val_loss: 1.5216 - val_accuracy: 0.6990\n",
      "Epoch 14/20\n",
      "63/63 [==============================] - 1s 20ms/step - loss: 0.5274 - accuracy: 0.8578 - val_loss: 1.5969 - val_accuracy: 0.6980\n",
      "Epoch 15/20\n",
      "63/63 [==============================] - 1s 18ms/step - loss: 0.4992 - accuracy: 0.8638 - val_loss: 1.5995 - val_accuracy: 0.7040\n",
      "Epoch 16/20\n",
      "63/63 [==============================] - 1s 17ms/step - loss: 0.4728 - accuracy: 0.8696 - val_loss: 1.7180 - val_accuracy: 0.6980\n",
      "Epoch 17/20\n",
      "63/63 [==============================] - 1s 17ms/step - loss: 0.4489 - accuracy: 0.8747 - val_loss: 1.7947 - val_accuracy: 0.6850\n",
      "Epoch 18/20\n",
      "63/63 [==============================] - 1s 17ms/step - loss: 0.4295 - accuracy: 0.8768 - val_loss: 1.8526 - val_accuracy: 0.7080\n",
      "Epoch 19/20\n",
      "63/63 [==============================] - 1s 18ms/step - loss: 0.4079 - accuracy: 0.8850 - val_loss: 1.8616 - val_accuracy: 0.7070\n",
      "Epoch 20/20\n",
      "63/63 [==============================] - 1s 22ms/step - loss: 0.3925 - accuracy: 0.8885 - val_loss: 1.9684 - val_accuracy: 0.6960\n"
     ]
    },
    {
     "data": {
      "text/plain": [
       "<keras.callbacks.History at 0x258abde9220>"
      ]
     },
     "execution_count": 30,
     "metadata": {},
     "output_type": "execute_result"
    }
   ],
   "source": [
    "model = models.Sequential()\n",
    "model.add(layers.Dense(64, activation='relu', input_shape=(10000,)))\n",
    "model.add(layers.Dense(4, activation='relu'))\n",
    "model.add(layers.Dense(46, activation='softmax'))\n",
    "\n",
    "model.compile(optimizer='rmsprop',\n",
    "              loss='categorical_crossentropy',\n",
    "              metrics=['accuracy'])\n",
    "model.fit(partial_x_train,\n",
    "          partial_y_train,\n",
    "          epochs=20,\n",
    "          batch_size=128,\n",
    "          validation_data=(x_val, y_val))"
   ]
  },
  {
   "cell_type": "markdown",
   "metadata": {},
   "source": [
    "\n",
    "Dokładność sieci w procesie walidacji osiąga teraz wartość szczytową na poziomie około 71%, a więc dokładność spadła w skali bezwzględnej o 8%. Wynika to głównie z tego, że sieć stara się skompresować wiele informacji w zbyt małej liczbie wymiarów warstwy pośredniej. Co prawda sieć jest w stanie dokonać podziału na 46 klas, a więc może ona zakodować większość niezbędnych informacji w formie ośmiowymiarowych reprezentacji, ale przestrzeń taka jest zbyt mała, aby umieścić w niej wszystkie informacje."
   ]
  }
 ],
 "metadata": {
  "interpreter": {
   "hash": "d03e2d80dde925cfb4652b699edd3196d72f7560319f9b7aa6498da6fcd9f501"
  },
  "kernelspec": {
   "display_name": "Python 3.9.7 64-bit",
   "name": "python3"
  },
  "language_info": {
   "codemirror_mode": {
    "name": "ipython",
    "version": 3
   },
   "file_extension": ".py",
   "mimetype": "text/x-python",
   "name": "python",
   "nbconvert_exporter": "python",
   "pygments_lexer": "ipython3",
   "version": "3.9.7"
  }
 },
 "nbformat": 4,
 "nbformat_minor": 2
}
